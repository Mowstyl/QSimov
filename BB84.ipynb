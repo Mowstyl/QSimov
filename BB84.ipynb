{
 "cells": [
  {
   "cell_type": "markdown",
   "metadata": {},
   "source": [
    "<a id=\"cabecera\"></a> \n",
    "<img src=\"images/UCLM_todo_Color.png\" alt=\"Logo UCLM\" align=\"right\" width=\"30%\" height=\"30%\">\n",
    "<br><br><br>\n",
    "\n",
    "\n",
    "\n",
    "\n",
    "<h2><font color=\"#004D7F\" size=4>Quantum Key Distribution</font></h2>\n",
    "\n",
    "\n",
    "<h1><font color=\"#004D7F\" size=5>Protocolo BB84</font></h1>\n",
    "<br><br>\n",
    "\n",
    "<div style=\"text-align: right\">\n",
    "<font color=\"#004D7F\" size=3>Hernán Indíbil de la Cruz Calvo</font><br>\n",
    "<font color=\"#004D7F\" size=3>Máster Universitario en Ingeniería Informática</font><br>\n",
    "<font color=\"#004D7F\" size=3>Universidad de Castilla-La Mancha</font>\n",
    "\n",
    "</div>"
   ]
  },
  {
   "cell_type": "markdown",
   "metadata": {},
   "source": [
    "---\n",
    "<a id=\"indice\"></a>\n",
    "<h1><font color=\"#004D7F\" size=5>Índice de Contenido</font></h1>\n",
    "\n",
    "0. [Preparación del entorno](#section0)\n",
    "1. [Intercambio de claves](#section1)\n",
    "    1. [Generación de la clave](#section11)\n",
    "    2. [Envío](#section12)\n",
    "    3. [Recepción](#section13)\n",
    "    4. [Comparación de b y b'](#section14)\n",
    "2. [Comprobación](#section2)\n",
    "---\n",
    "<a id=\"section0\"></a>\n",
    "# <font color=\"#004D7F\">0. Preparación del entorno</font>"
   ]
  },
  {
   "cell_type": "code",
   "execution_count": 1,
   "metadata": {},
   "outputs": [],
   "source": [
    "import numpy as np\n",
    "import random as rnd\n",
    "import qsimov as qj"
   ]
  },
  {
   "cell_type": "markdown",
   "metadata": {},
   "source": [
    "---\n",
    "<a id=\"section1\"></a>\n",
    "# <font color=\"#004D7F\">1. Intercambio de claves</font>\n",
    "Vamos a considerar tres actores y un canal en el que puede existir ruido.\n",
    "Los tres actores son:\n",
    "* Alice: Inicia el protocolo para intercambiar una clave con Bob\n",
    "* Bob: Participa en el intercambio de claves con Alice\n",
    "* Eve: Agente que tratará por todos los medios posibles conseguir la clave"
   ]
  },
  {
   "cell_type": "code",
   "execution_count": 2,
   "metadata": {},
   "outputs": [],
   "source": [
    "# Determinamos el número de bits a utilizar\n",
    "n = 2048\n",
    "noise_prob = 0.05\n",
    "seed = 6470\n",
    "rnd.seed(seed)\n",
    "np.random.seed(seed)\n",
    "qj.setRandomSeed(seed)"
   ]
  },
  {
   "cell_type": "markdown",
   "metadata": {},
   "source": [
    "<a id=\"section11\"></a>\n",
    "## <font color=\"#004D7F\">1.1. Generación de la clave</font>\n",
    "Alice comienza generando dos tiras de bits de forma aleatoria llamadas <i>a</i> y <i>b</i>."
   ]
  },
  {
   "cell_type": "code",
   "execution_count": 3,
   "metadata": {},
   "outputs": [],
   "source": [
    "a = np.array([rnd.randint(0, 1) for i in range(n)])\n",
    "b = np.array([rnd.randint(0, 1) for i in range(n)])"
   ]
  },
  {
   "cell_type": "code",
   "execution_count": 4,
   "metadata": {},
   "outputs": [
    {
     "data": {
      "text/plain": [
       "array([1, 1, 0, ..., 0, 1, 1])"
      ]
     },
     "execution_count": 4,
     "metadata": {},
     "output_type": "execute_result"
    }
   ],
   "source": [
    "a"
   ]
  },
  {
   "cell_type": "code",
   "execution_count": 5,
   "metadata": {},
   "outputs": [
    {
     "data": {
      "text/plain": [
       "array([0, 1, 1, ..., 1, 1, 1])"
      ]
     },
     "execution_count": 5,
     "metadata": {},
     "output_type": "execute_result"
    }
   ],
   "source": [
    "b"
   ]
  },
  {
   "cell_type": "markdown",
   "metadata": {},
   "source": [
    "Ahora se procede a crear la lista de QuBits que Alice transmitirá a Bob. El valor de <i>a</i> indicará el valor inicial de cada QuBit a enviar, y el valor de <i>b</i> indica la base en la que se codificará: 0 para base computacional, 1 para base Hadamard. Para cambiar a la base de Hadamard sólo es necesario aplicar la puerta Hadamard."
   ]
  },
  {
   "cell_type": "code",
   "execution_count": 6,
   "metadata": {},
   "outputs": [],
   "source": [
    "q = qj.QSystem(n * 2)\n",
    "for i in range(n):\n",
    "    if a[i] == 1:\n",
    "        q.applyGate(\"X\", qubit=i)\n",
    "    if b[i] == 1:\n",
    "        q.applyGate(\"H\", qubit=i)"
   ]
  },
  {
   "cell_type": "markdown",
   "metadata": {},
   "source": [
    "<a id=\"section12\"></a>\n",
    "## <font color=\"#004D7F\">1.2. Envío</font>\n",
    "Alice procede a enviar por un canal cuántico los QuBits. En este apartado se simulará el ruido y será donde Eve realice su ataque.\n",
    "Comenzamos provocando el ruido aplicando una puerta z con una cierta probabilidad."
   ]
  },
  {
   "cell_type": "code",
   "execution_count": 7,
   "metadata": {},
   "outputs": [],
   "source": [
    "for i in range(n):\n",
    "    if rnd.random() < noise_prob:\n",
    "        q.applyGate(\"Rz(\" + str(np.pi/8) + \")\", qubit=i)"
   ]
  },
  {
   "cell_type": "markdown",
   "metadata": {},
   "source": [
    "Ahora Eve procedería a hacer su jugada. Como el principio de indeterminación hace que sus intentos de descubrir algo de los QuBits afecten a los mismos, sólo le quedaría clonar los QuBits transmitidos. Dado que el teorema de no clonación lo impide, lo único que puede hacer es usar C-NOT, de forma que sus QuBit sean una copia de los que estaban en base computacional y queden entrelazados con los que no."
   ]
  },
  {
   "cell_type": "code",
   "execution_count": 8,
   "metadata": {},
   "outputs": [],
   "source": [
    "for i in range(n):\n",
    "    q.applyGate(\"X\", qubit=i+n, control=i)"
   ]
  },
  {
   "cell_type": "markdown",
   "metadata": {},
   "source": [
    "<a id=\"section13\"></a>\n",
    "## <font color=\"#004D7F\">1.3. Recepción</font>\n",
    "Bob recibe los QuBits enviados por Alice a través del canal inseguro. Comienza generando una tira de bits <i>b'</i> que determina la base en la que tratará de medir. Bob tiene un 50% de probabilidades de acertar para un cierto QuBit <i>q<sub>i</sub></i> se cumpla que <i>b<sub>i</sub></i> = <i>b'<sub>i</sub></i>."
   ]
  },
  {
   "cell_type": "code",
   "execution_count": 9,
   "metadata": {},
   "outputs": [],
   "source": [
    "b_prime = np.array([rnd.randint(0, 1) for i in range(n)])\n",
    "\n",
    "for i in range(n):\n",
    "    if b_prime[i] == 1:\n",
    "        q.applyGate(\"H\", qubit=i)"
   ]
  },
  {
   "cell_type": "markdown",
   "metadata": {},
   "source": [
    "Una vez generado <i>b'</i> y cambiada la base se procede a la medición. En los registros consideramos que el primer QuBit es el original, mientras que el segundo es el que tiene Eve."
   ]
  },
  {
   "cell_type": "code",
   "execution_count": 10,
   "metadata": {},
   "outputs": [
    {
     "name": "stdout",
     "output_type": "stream",
     "text": [
      "[0 1 0 ... 1 0 0]\n"
     ]
    }
   ],
   "source": [
    "a_prime = np.array(q.measure([1 if i < n else 0 for i in range(n * 2)], remove=True))\n",
    "print(a_prime)"
   ]
  },
  {
   "cell_type": "markdown",
   "metadata": {},
   "source": [
    "<a id=\"section14\"></a>\n",
    "## <font color=\"#004D7F\">1.4. Comparación de <i>b</i> y <i>b'</i></font>\n",
    "Bob procede a anunciar que ha terminado de realizar las mediciones, momento en el que Alice publica <i>b</i>. Bob entonces procede a compararlo con <i>b'</i> para saber qué valores se han medido correctamente. Si no se ha producido ruido o un intento de escucha, <i>b<sub>i</sub></i> = <i>b'<sub>i</sub></i> &rArr; <i>a<sub>i</sub></i> = <i>a'<sub>i</sub></i>."
   ]
  },
  {
   "cell_type": "code",
   "execution_count": 11,
   "metadata": {},
   "outputs": [
    {
     "data": {
      "text/plain": [
       "array([False, False, False, ...,  True, False, False])"
      ]
     },
     "execution_count": 11,
     "metadata": {},
     "output_type": "execute_result"
    }
   ],
   "source": [
    "aciertos = b == b_prime\n",
    "aciertos"
   ]
  },
  {
   "cell_type": "markdown",
   "metadata": {},
   "source": [
    "Y finalmente Bob comunica la lista de aciertos. Todos los QuBits para los que no se haya producido un acierto serán descartados tanto por Alice como por Bob (y potencialmente por Eve ya que no formarán parte de la clave)."
   ]
  },
  {
   "cell_type": "code",
   "execution_count": 12,
   "metadata": {},
   "outputs": [],
   "source": [
    "shared_a = np.array([a[i] for i in range(n) if aciertos[i]])\n",
    "shared_a_prime = np.array([a_prime[i] for i in range(n) if aciertos[i]])"
   ]
  },
  {
   "cell_type": "markdown",
   "metadata": {},
   "source": [
    "Además, Eve ahora sabe que todos los que tienen acierto y originalmente fueron codificados en base computacional fueron copiados correctamente. En cuanto a los que tienen acierto y estaban en base hadamard, bastará con aplicarles una Hadamard y medir."
   ]
  },
  {
   "cell_type": "code",
   "execution_count": 13,
   "metadata": {},
   "outputs": [],
   "source": [
    "for i in range(n):\n",
    "    if aciertos[i] and b[i] == 1:\n",
    "        q.applyGate(\"H\", qubit=i+n)\n",
    "\n",
    "shared_a_eve = np.array(q.measure([0 if i < n or not aciertos[i - n] else 1 for i in range(n * 2)]))"
   ]
  },
  {
   "cell_type": "markdown",
   "metadata": {},
   "source": [
    "Vamos a comprobar si efectivamente Eve tiene la clave"
   ]
  },
  {
   "cell_type": "code",
   "execution_count": 14,
   "metadata": {},
   "outputs": [
    {
     "data": {
      "text/plain": [
       "False"
      ]
     },
     "execution_count": 14,
     "metadata": {},
     "output_type": "execute_result"
    }
   ],
   "source": [
    "all(shared_a_prime == shared_a_eve)"
   ]
  },
  {
   "cell_type": "markdown",
   "metadata": {},
   "source": [
    "Se puede observar que no. Vamos a ver en qué casos ha fallado."
   ]
  },
  {
   "cell_type": "code",
   "execution_count": 15,
   "metadata": {
    "scrolled": false
   },
   "outputs": [
    {
     "data": {
      "text/plain": [
       "array([[1, 1, 1],\n",
       "       [1, 1, 1],\n",
       "       [1, 1, 1],\n",
       "       [1, 1, 1],\n",
       "       [1, 1, 1],\n",
       "       [1, 1, 1],\n",
       "       [1, 1, 1],\n",
       "       [1, 1, 1],\n",
       "       [1, 1, 1],\n",
       "       [1, 1, 1],\n",
       "       [1, 1, 1],\n",
       "       [1, 1, 1],\n",
       "       [1, 1, 1],\n",
       "       [1, 1, 1],\n",
       "       [1, 1, 1],\n",
       "       [1, 1, 1],\n",
       "       [1, 1, 1],\n",
       "       [1, 1, 1],\n",
       "       [1, 1, 1],\n",
       "       [1, 1, 1],\n",
       "       [1, 1, 1],\n",
       "       [1, 1, 1],\n",
       "       [1, 1, 1],\n",
       "       [1, 1, 1],\n",
       "       [1, 1, 1],\n",
       "       [1, 1, 1],\n",
       "       [1, 1, 1],\n",
       "       [1, 1, 1],\n",
       "       [1, 1, 1],\n",
       "       [1, 1, 1],\n",
       "       [1, 1, 1],\n",
       "       [1, 1, 1],\n",
       "       [1, 1, 1],\n",
       "       [1, 1, 1],\n",
       "       [1, 1, 1],\n",
       "       [1, 1, 1],\n",
       "       [1, 1, 1],\n",
       "       [1, 1, 1],\n",
       "       [1, 1, 1],\n",
       "       [1, 1, 1],\n",
       "       [1, 1, 1],\n",
       "       [1, 1, 1],\n",
       "       [1, 1, 1],\n",
       "       [1, 1, 1],\n",
       "       [1, 1, 1],\n",
       "       [1, 1, 1],\n",
       "       [1, 1, 1],\n",
       "       [1, 1, 1],\n",
       "       [1, 1, 1],\n",
       "       [1, 1, 1],\n",
       "       [1, 1, 1],\n",
       "       [1, 1, 1],\n",
       "       [1, 1, 1],\n",
       "       [1, 1, 1],\n",
       "       [1, 1, 1],\n",
       "       [1, 1, 1],\n",
       "       [1, 1, 1],\n",
       "       [1, 1, 1],\n",
       "       [1, 1, 1],\n",
       "       [1, 1, 1],\n",
       "       [1, 1, 1],\n",
       "       [1, 1, 1],\n",
       "       [1, 1, 1],\n",
       "       [1, 1, 1],\n",
       "       [1, 1, 1],\n",
       "       [1, 1, 1],\n",
       "       [1, 1, 1],\n",
       "       [1, 1, 1],\n",
       "       [1, 1, 1],\n",
       "       [1, 1, 1],\n",
       "       [1, 1, 1],\n",
       "       [1, 1, 1],\n",
       "       [1, 1, 1],\n",
       "       [1, 1, 1],\n",
       "       [1, 1, 1],\n",
       "       [1, 1, 1],\n",
       "       [1, 1, 1],\n",
       "       [1, 1, 1],\n",
       "       [1, 1, 1],\n",
       "       [1, 1, 1],\n",
       "       [1, 1, 1],\n",
       "       [1, 1, 1],\n",
       "       [1, 1, 1],\n",
       "       [1, 1, 1],\n",
       "       [1, 1, 1],\n",
       "       [1, 1, 1],\n",
       "       [1, 1, 1],\n",
       "       [1, 1, 1],\n",
       "       [1, 1, 1],\n",
       "       [1, 1, 1],\n",
       "       [1, 1, 1],\n",
       "       [1, 1, 1],\n",
       "       [1, 1, 1],\n",
       "       [1, 1, 1],\n",
       "       [1, 1, 1],\n",
       "       [1, 1, 1],\n",
       "       [1, 1, 1],\n",
       "       [1, 1, 1],\n",
       "       [1, 1, 1],\n",
       "       [1, 1, 1],\n",
       "       [1, 1, 1],\n",
       "       [1, 1, 1],\n",
       "       [1, 1, 1],\n",
       "       [1, 1, 1],\n",
       "       [1, 1, 1],\n",
       "       [1, 1, 1],\n",
       "       [1, 1, 1],\n",
       "       [1, 1, 1],\n",
       "       [1, 1, 1],\n",
       "       [1, 1, 1],\n",
       "       [1, 1, 1],\n",
       "       [1, 1, 1],\n",
       "       [1, 1, 1],\n",
       "       [1, 1, 1],\n",
       "       [1, 1, 1],\n",
       "       [1, 1, 1],\n",
       "       [1, 1, 1],\n",
       "       [1, 1, 1],\n",
       "       [1, 1, 1],\n",
       "       [1, 1, 1],\n",
       "       [1, 1, 1],\n",
       "       [1, 1, 1],\n",
       "       [1, 1, 1],\n",
       "       [1, 1, 1],\n",
       "       [1, 1, 1],\n",
       "       [1, 1, 1],\n",
       "       [1, 1, 1],\n",
       "       [1, 1, 1],\n",
       "       [1, 1, 1],\n",
       "       [1, 1, 1],\n",
       "       [1, 1, 1],\n",
       "       [1, 1, 1],\n",
       "       [1, 1, 1],\n",
       "       [1, 1, 1],\n",
       "       [1, 1, 1],\n",
       "       [1, 1, 1],\n",
       "       [1, 1, 1],\n",
       "       [1, 1, 1],\n",
       "       [1, 1, 1],\n",
       "       [1, 1, 1],\n",
       "       [1, 1, 1],\n",
       "       [1, 1, 1],\n",
       "       [1, 1, 1],\n",
       "       [1, 1, 1],\n",
       "       [1, 1, 1],\n",
       "       [1, 1, 1],\n",
       "       [1, 1, 1],\n",
       "       [1, 1, 1],\n",
       "       [1, 1, 1],\n",
       "       [1, 1, 1],\n",
       "       [1, 1, 1],\n",
       "       [1, 1, 1],\n",
       "       [1, 1, 1],\n",
       "       [1, 1, 1],\n",
       "       [1, 1, 1],\n",
       "       [1, 1, 1],\n",
       "       [1, 1, 1],\n",
       "       [1, 1, 1],\n",
       "       [1, 1, 1],\n",
       "       [1, 1, 1],\n",
       "       [1, 1, 1],\n",
       "       [1, 1, 1],\n",
       "       [1, 1, 1],\n",
       "       [1, 1, 1],\n",
       "       [1, 1, 1],\n",
       "       [1, 1, 1],\n",
       "       [1, 1, 1],\n",
       "       [1, 1, 1],\n",
       "       [1, 1, 1],\n",
       "       [1, 1, 1],\n",
       "       [1, 1, 1],\n",
       "       [1, 1, 1],\n",
       "       [1, 1, 1],\n",
       "       [1, 1, 1],\n",
       "       [1, 1, 1],\n",
       "       [1, 1, 1],\n",
       "       [1, 1, 1],\n",
       "       [1, 1, 1],\n",
       "       [1, 1, 1],\n",
       "       [1, 1, 1],\n",
       "       [1, 1, 1],\n",
       "       [1, 1, 1],\n",
       "       [1, 1, 1],\n",
       "       [1, 1, 1],\n",
       "       [1, 1, 1],\n",
       "       [1, 1, 1],\n",
       "       [1, 1, 1],\n",
       "       [1, 1, 1],\n",
       "       [1, 1, 1],\n",
       "       [1, 1, 1],\n",
       "       [1, 1, 1],\n",
       "       [1, 1, 1],\n",
       "       [1, 1, 1],\n",
       "       [1, 1, 1],\n",
       "       [1, 1, 1],\n",
       "       [1, 1, 1],\n",
       "       [1, 1, 1],\n",
       "       [1, 1, 1],\n",
       "       [1, 1, 1],\n",
       "       [1, 1, 1],\n",
       "       [1, 1, 1],\n",
       "       [1, 1, 1],\n",
       "       [1, 1, 1],\n",
       "       [1, 1, 1],\n",
       "       [1, 1, 1],\n",
       "       [1, 1, 1],\n",
       "       [1, 1, 1],\n",
       "       [1, 1, 1],\n",
       "       [1, 1, 1],\n",
       "       [1, 1, 1],\n",
       "       [1, 1, 1],\n",
       "       [1, 1, 1],\n",
       "       [1, 1, 1],\n",
       "       [1, 1, 1],\n",
       "       [1, 1, 1],\n",
       "       [1, 1, 1],\n",
       "       [1, 1, 1],\n",
       "       [1, 1, 1],\n",
       "       [1, 1, 1],\n",
       "       [1, 1, 1],\n",
       "       [1, 1, 1],\n",
       "       [1, 1, 1],\n",
       "       [1, 1, 1],\n",
       "       [1, 1, 1],\n",
       "       [1, 1, 1],\n",
       "       [1, 1, 1],\n",
       "       [1, 1, 1],\n",
       "       [1, 1, 1],\n",
       "       [1, 1, 1],\n",
       "       [1, 1, 1],\n",
       "       [1, 1, 1],\n",
       "       [1, 1, 1],\n",
       "       [1, 1, 1],\n",
       "       [1, 1, 1],\n",
       "       [1, 1, 1],\n",
       "       [1, 1, 1],\n",
       "       [1, 1, 1],\n",
       "       [1, 1, 1],\n",
       "       [1, 1, 1],\n",
       "       [1, 1, 1],\n",
       "       [1, 1, 1],\n",
       "       [1, 1, 1],\n",
       "       [1, 1, 1],\n",
       "       [1, 1, 1],\n",
       "       [1, 1, 1],\n",
       "       [1, 1, 1],\n",
       "       [1, 1, 1],\n",
       "       [1, 1, 1],\n",
       "       [1, 1, 1],\n",
       "       [1, 1, 1],\n",
       "       [1, 1, 1],\n",
       "       [1, 1, 1],\n",
       "       [1, 1, 1],\n",
       "       [1, 1, 1],\n",
       "       [1, 1, 1]])"
      ]
     },
     "execution_count": 15,
     "metadata": {},
     "output_type": "execute_result"
    }
   ],
   "source": [
    "data = np.array([(a[i], b[i], b_prime[i]) for i in range(n) if aciertos[i]])\n",
    "failed = np.array([data[i] for i in range(len(data)) if not(shared_a_prime == shared_a_eve)[i]])\n",
    "failed"
   ]
  },
  {
   "cell_type": "markdown",
   "metadata": {},
   "source": [
    "Se puede observar que Eve falla en los casos en los que se ha codificado un 1 en base de Hadamard. Veamos qué sucede:"
   ]
  },
  {
   "cell_type": "code",
   "execution_count": 16,
   "metadata": {},
   "outputs": [
    {
     "data": {
      "text/plain": [
       "array([ 0.5+0.j,  0.5+0.j, -0.5+0.j,  0.5+0.j])"
      ]
     },
     "execution_count": 16,
     "metadata": {},
     "output_type": "execute_result"
    }
   ],
   "source": [
    "r = qj.QSystem(2)\n",
    "# Codificación hecha por Alice\n",
    "r.applyGate(\"X\", \"I\")\n",
    "r.applyGate(\"H\", \"I\")\n",
    "# Fan-out de Eve\n",
    "r.applyGate(\"X\", qubit=1, control=0)\n",
    "# Decodificación de Bob\n",
    "r.applyGate(\"H\", \"I\")\n",
    "r.getState()"
   ]
  },
  {
   "cell_type": "markdown",
   "metadata": {},
   "source": [
    "Se puede observar que Bob tiene un 50% de probabilidades de obtener cada uno de los posibles valores al medir, al contrario que en el caso en el que Eve no interfiere, donde tendría un 100% de obtener el correcto. Eve ha alterado el QuBit enviado."
   ]
  },
  {
   "cell_type": "code",
   "execution_count": 17,
   "metadata": {},
   "outputs": [
    {
     "name": "stdout",
     "output_type": "stream",
     "text": [
      "Medida: 0\n"
     ]
    },
    {
     "data": {
      "text/plain": [
       "array([ 0.70710678+0.j, -0.70710678+0.j])"
      ]
     },
     "execution_count": 17,
     "metadata": {},
     "output_type": "execute_result"
    }
   ],
   "source": [
    "# Lectura de Bob\n",
    "mes = r.measure([1, 0], remove=True)\n",
    "print(\"Medida: \" + str(mes[0]))\n",
    "r.getState()"
   ]
  },
  {
   "cell_type": "code",
   "execution_count": 18,
   "metadata": {},
   "outputs": [
    {
     "name": "stdout",
     "output_type": "stream",
     "text": [
      "Medida: 1\n"
     ]
    },
    {
     "data": {
      "text/plain": [
       "array([0.+0.j, 1.+0.j])"
      ]
     },
     "execution_count": 18,
     "metadata": {},
     "output_type": "execute_result"
    }
   ],
   "source": [
    "# Recuperación de Eve\n",
    "r.applyGate(\"H\")\n",
    "mes = r.measure([0, 1])\n",
    "print(\"Medida: \" + str(mes[0]))\n",
    "r.getState()"
   ]
  },
  {
   "cell_type": "markdown",
   "metadata": {},
   "source": [
    "Debido al uso de CNOT por parte de Eve, el QuBit enviado por Alice se ha visto afectado y en algunos casos, aun teniendo la base correcta, la medida da un valor incorrecto a Bob.\n",
    "\n",
    "La intrusión ha afectado al sistema dando valores aleatorios en algunas medidas correctas de Bob. Concretamente todas las medidas que ha realizado Bob en base de Hadamard le han dado un valor aleatorio (cuando se debería haber recuperado el valor original).\n",
    "\n",
    "Por ello, teniendo que la mitad (en media) de los valores están en dicha base y (en media) Bob fallará la mitad, un 25% (también en media) de los valores que Bob creía correctos serán erroneos.\n",
    "\n",
    "Para Eve, debido al estado entrelazado que ha formado con Bob, cuando el número codificado en base de Hadamard era un 0 Eve tendrá siempre el mismo número aleatorio que haya obtenido Bob. Cuando el número codificado era un 1, Eve tendrá siempre el contrario que el medido por Bob."
   ]
  },
  {
   "cell_type": "markdown",
   "metadata": {},
   "source": [
    "---\n",
    "<a id=\"section2\"></a>\n",
    "# <font color=\"#004D7F\">2. Comprobación</font>\n",
    "Ahora Alice y Bob comparten la mitad de la clave escogida de forma aleatoria para compararla. Si no concuerdan, puede significar que ha habido ruido o una intrusión."
   ]
  },
  {
   "cell_type": "code",
   "execution_count": 19,
   "metadata": {},
   "outputs": [],
   "source": [
    "# Elección de los bits a compartir\n",
    "randids = [i for i in range(len(shared_a))]\n",
    "rnd.shuffle(randids)\n",
    "shared_ids = randids[:len(shared_a)//2]\n",
    "\n",
    "# Comparación de los bits compartidos\n",
    "result = np.array([int(shared_a[i] == shared_a_prime[i]) for i in shared_ids])"
   ]
  },
  {
   "cell_type": "markdown",
   "metadata": {},
   "source": [
    "Finalmente calculamos la tasa de error. Si es mayor que un cierto valor (sobre 11% habitualmente) significa que ha habido demasiado ruido o una intrusión, por lo que se descarta la clave compartida y se vuelve a empezar."
   ]
  },
  {
   "cell_type": "code",
   "execution_count": 20,
   "metadata": {},
   "outputs": [
    {
     "name": "stdout",
     "output_type": "stream",
     "text": [
      "Tasa de error: 25.631067961165044 %\n"
     ]
    }
   ],
   "source": [
    "error = 1 - sum(result)/(len(shared_a)//2)\n",
    "print(\"Tasa de error: \" + str(error * 100) + \" %\")"
   ]
  },
  {
   "cell_type": "markdown",
   "metadata": {},
   "source": [
    "Como es mayor, se volvería a comenzar. Si fuese menor se procedería a utilizar métodos clásicos para descartar todos los bits posibles que no concuerden."
   ]
  },
  {
   "cell_type": "markdown",
   "metadata": {},
   "source": [
    "---"
   ]
  }
 ],
 "metadata": {
  "kernelspec": {
   "display_name": "Python 3",
   "language": "python",
   "name": "python3"
  },
  "language_info": {
   "codemirror_mode": {
    "name": "ipython",
    "version": 3
   },
   "file_extension": ".py",
   "mimetype": "text/x-python",
   "name": "python",
   "nbconvert_exporter": "python",
   "pygments_lexer": "ipython3",
   "version": "3.8.1"
  }
 },
 "nbformat": 4,
 "nbformat_minor": 2
}
